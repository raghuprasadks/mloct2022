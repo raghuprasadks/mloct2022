{
  "nbformat": 4,
  "nbformat_minor": 0,
  "metadata": {
    "colab": {
      "provenance": []
    },
    "kernelspec": {
      "name": "python3",
      "display_name": "Python 3"
    },
    "language_info": {
      "name": "python"
    }
  },
  "cells": [
    {
      "cell_type": "code",
      "execution_count": null,
      "metadata": {
        "id": "WnJQNyC9R2-V"
      },
      "outputs": [],
      "source": [
        "class Account():\n",
        "  '''\n",
        "  attributes\n",
        "  '''\n",
        "  actnum=0\n",
        "  name=''\n",
        "  bal=0\n",
        "  location = ''\n",
        "  '''\n",
        "  methods\n",
        "  '''\n",
        "  def openAccount(self,name,location):\n",
        "    self.name = name\n",
        "    self.location = location\n",
        "    self.bal = 0\n",
        "    self.actnum = 100\n",
        "  \n",
        "  def deposit(self,actnum,amttodep):\n",
        "    self.bal = self.bal +amttodep\n",
        "    return self.bal\n",
        "\n",
        "  def withdraw(self,actnum,amttodep):\n",
        "    self.bal = self.bal -amttodep\n",
        "    return self.bal\n",
        "\n",
        "  def checkbal (self,actnum):\n",
        "    return self.bal\n",
        "\n",
        "\n",
        "  \n",
        "  "
      ]
    },
    {
      "cell_type": "code",
      "source": [
        "#act1 is an object\n",
        "act1 = Account()\n",
        "act1.openAccount('raghu prasad','bengaluru')\n",
        "print (\"your account number is \",act1.actnum)\n",
        "actnum = act1.actnum\n",
        "bal = act1.deposit(actnum,10000)\n",
        "print('Balance after deposit of 10 k ',bal)\n",
        "bal = act1.deposit(actnum,20000)\n",
        "print('Balance after deposit of 20 k ',bal)\n",
        "bal = act1.withdraw(actnum,5000)\n",
        "print('Balance after withdraw of 5 k ',bal)\n",
        "bal = act1.checkbal(actnum)\n",
        "print('check balance ',bal)\n",
        "\n",
        "\n",
        "\n"
      ],
      "metadata": {
        "colab": {
          "base_uri": "https://localhost:8080/"
        },
        "id": "b_86bOGWTXD3",
        "outputId": "a09f5b72-1b29-44c4-d2c2-c825c711c061"
      },
      "execution_count": null,
      "outputs": [
        {
          "output_type": "stream",
          "name": "stdout",
          "text": [
            "your account number is  100\n",
            "Balance after deposit of 10 k  10000\n",
            "Balance after deposit of 20 k  30000\n",
            "Balance after withdraw of 5 k  25000\n",
            "check balance  25000\n"
          ]
        }
      ]
    },
    {
      "cell_type": "code",
      "source": [
        "act2 = Account()\n",
        "act2.openAccount('gagan','mysore')\n",
        "print (\"your account number is \",act2.actnum)\n",
        "actnum = act2.actnum\n",
        "bal = act2.deposit(actnum,30000)\n",
        "print('Balance after deposit of 30 k ',bal)\n",
        "bal = act2.deposit(actnum,20000)\n",
        "print('Balance after deposit of 20 k ',bal)\n",
        "bal = act2.withdraw(actnum,10000)\n",
        "print('Balance after withdraw of 10 k ',bal)\n",
        "bal = act2.checkbal(actnum)\n",
        "print('check balance ',bal)\n"
      ],
      "metadata": {
        "colab": {
          "base_uri": "https://localhost:8080/"
        },
        "id": "MUKy6UGcYY2r",
        "outputId": "ee52e146-4a27-40a1-d33e-726f6fca2862"
      },
      "execution_count": null,
      "outputs": [
        {
          "output_type": "stream",
          "name": "stdout",
          "text": [
            "your account number is  100\n",
            "Balance after deposit of 30 k  30000\n",
            "Balance after deposit of 20 k  50000\n",
            "Balance after withdraw of 10 k  40000\n",
            "check balance  40000\n"
          ]
        }
      ]
    }
  ]
}