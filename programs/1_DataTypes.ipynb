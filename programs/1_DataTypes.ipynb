{
  "nbformat": 4,
  "nbformat_minor": 0,
  "metadata": {
    "colab": {
      "provenance": []
    },
    "kernelspec": {
      "name": "python3",
      "display_name": "Python 3"
    },
    "language_info": {
      "name": "python"
    }
  },
  "cells": [
    {
      "cell_type": "code",
      "execution_count": null,
      "metadata": {
        "colab": {
          "base_uri": "https://localhost:8080/"
        },
        "id": "QPZVAHRZXM7A",
        "outputId": "a0179954-f365-4af5-dc73-11585e65f074"
      },
      "outputs": [
        {
          "output_type": "stream",
          "name": "stdout",
          "text": [
            "Hello World\n"
          ]
        }
      ],
      "source": [
        "print(\"Hello World\")"
      ]
    },
    {
      "cell_type": "code",
      "source": [
        "# Basic Data type str,int,float,bool\n",
        "name=\"ravi\"\n",
        "age = 45\n",
        "city= 'Bengaluru'\n",
        "zipcode = 560001\n",
        "anyCreditCard=True"
      ],
      "metadata": {
        "id": "Odp1yh5sZVEg"
      },
      "execution_count": null,
      "outputs": []
    },
    {
      "cell_type": "code",
      "source": [],
      "metadata": {
        "id": "9n1k2Ji5arEf"
      },
      "execution_count": null,
      "outputs": []
    },
    {
      "cell_type": "code",
      "source": [
        "print(name)\n",
        "print('your name is ',name)\n",
        "print('data type of name variable',type(name))"
      ],
      "metadata": {
        "colab": {
          "base_uri": "https://localhost:8080/"
        },
        "id": "_rWygyy2Z_Ty",
        "outputId": "dc1c77fb-7b57-4295-c0ce-139b6acb682d"
      },
      "execution_count": null,
      "outputs": [
        {
          "output_type": "stream",
          "name": "stdout",
          "text": [
            "ravi\n",
            "your name is  ravi\n",
            "data type of name variable <class 'str'>\n"
          ]
        }
      ]
    },
    {
      "cell_type": "code",
      "source": [
        "name=123\n",
        "print('data type of name variable ',type(name))"
      ],
      "metadata": {
        "colab": {
          "base_uri": "https://localhost:8080/"
        },
        "id": "G9qhN5PsauJw",
        "outputId": "b514e6ff-ba7d-4770-d314-6b48499e8498"
      },
      "execution_count": null,
      "outputs": [
        {
          "output_type": "stream",
          "name": "stdout",
          "text": [
            "data type of name variable  <class 'int'>\n"
          ]
        }
      ]
    },
    {
      "cell_type": "code",
      "source": [
        "balance=1000.99\n",
        "print ('data type of balance ',type(balance))"
      ],
      "metadata": {
        "colab": {
          "base_uri": "https://localhost:8080/"
        },
        "id": "gLHOlu-wbBg2",
        "outputId": "499e483f-84a5-45f0-b07d-e0c591c3140d"
      },
      "execution_count": null,
      "outputs": [
        {
          "output_type": "stream",
          "name": "stdout",
          "text": [
            "data type of balance  <class 'float'>\n"
          ]
        }
      ]
    },
    {
      "cell_type": "code",
      "source": [
        "print ('data type of anycredit card',type(anyCreditCard))"
      ],
      "metadata": {
        "colab": {
          "base_uri": "https://localhost:8080/"
        },
        "id": "TDwiCQmubROc",
        "outputId": "827d37b8-0119-42c7-c559-b37a633549c3"
      },
      "execution_count": null,
      "outputs": [
        {
          "output_type": "stream",
          "name": "stdout",
          "text": [
            "data type of anycredit card <class 'bool'>\n"
          ]
        }
      ]
    },
    {
      "cell_type": "code",
      "source": [
        "'''\n",
        "list - []\n",
        "tuple - ()\n",
        "dictionary - {key:value}\n",
        "set - {n1,n2,n3}\n",
        "'''"
      ],
      "metadata": {
        "id": "iD9D6w57fA7k"
      },
      "execution_count": null,
      "outputs": []
    },
    {
      "cell_type": "code",
      "source": [
        "#list - dynamic array, it allows duplicate values\n",
        "customerlist = ['ravi','ganesh','gowri','abdul','alex']\n",
        "print('customer list ',customerlist)\n",
        "print('data type of customerlist ',type(customerlist))"
      ],
      "metadata": {
        "colab": {
          "base_uri": "https://localhost:8080/"
        },
        "id": "IPrwchQkfX2r",
        "outputId": "4e38d004-9f84-430b-9e55-8ee988c80d4b"
      },
      "execution_count": null,
      "outputs": [
        {
          "output_type": "stream",
          "name": "stdout",
          "text": [
            "customer list  ['ravi', 'ganesh', 'gowri', 'abdul', 'alex']\n",
            "data type of customerlist  <class 'list'>\n"
          ]
        }
      ]
    },
    {
      "cell_type": "code",
      "source": [
        "#tuple - cannot modify once it is defined\n",
        "days=('Mon','Tue','Wed')\n",
        "print('data type of days',type(days))"
      ],
      "metadata": {
        "colab": {
          "base_uri": "https://localhost:8080/"
        },
        "id": "rRP_LExKf-_b",
        "outputId": "6e3ded68-1c39-46bc-dcf4-5ae92c6643bb"
      },
      "execution_count": null,
      "outputs": [
        {
          "output_type": "stream",
          "name": "stdout",
          "text": [
            "data type of days <class 'tuple'>\n"
          ]
        }
      ]
    },
    {
      "cell_type": "code",
      "source": [
        "#dictionary - {key:value} key should be unique\n",
        "employee={101:'ramesh',102:'ravi',103:'ramya'}\n",
        "print('employee ',employee)\n",
        "print('employee data type ',type(employee))\n",
        "\n"
      ],
      "metadata": {
        "colab": {
          "base_uri": "https://localhost:8080/"
        },
        "id": "emW6tq0ViunE",
        "outputId": "ee805fce-45a5-4b8e-f687-d102c42197e2"
      },
      "execution_count": null,
      "outputs": [
        {
          "output_type": "stream",
          "name": "stdout",
          "text": [
            "employee  {101: 'ramesh', 102: 'ravi', 103: 'ramya'}\n",
            "employee data type  <class 'dict'>\n"
          ]
        }
      ]
    },
    {
      "cell_type": "code",
      "source": [
        "#set - {n1,n2,n3} - it does not allow duplicate values\n",
        "even={2,4,6,8,2}\n",
        "print('even numbers',even)\n",
        "print('type of even numbers',type(even))"
      ],
      "metadata": {
        "id": "L-O6ZCn4keXX",
        "outputId": "dbb8fff4-5487-43b4-c495-9dea87b9ac32",
        "colab": {
          "base_uri": "https://localhost:8080/"
        }
      },
      "execution_count": null,
      "outputs": [
        {
          "output_type": "stream",
          "name": "stdout",
          "text": [
            "even numbers {8, 2, 4, 6}\n",
            "type of even numbers <class 'set'>\n"
          ]
        }
      ]
    }
  ]
}