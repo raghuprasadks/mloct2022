{
  "nbformat": 4,
  "nbformat_minor": 0,
  "metadata": {
    "colab": {
      "provenance": []
    },
    "kernelspec": {
      "name": "python3",
      "display_name": "Python 3"
    },
    "language_info": {
      "name": "python"
    }
  },
  "cells": [
    {
      "cell_type": "code",
      "execution_count": null,
      "metadata": {
        "colab": {
          "base_uri": "https://localhost:8080/"
        },
        "id": "QpEA4Sr_4_e3",
        "outputId": "2858a2bd-61b5-4abb-9058-3c4b2d2f03b3"
      },
      "outputs": [
        {
          "output_type": "stream",
          "name": "stdout",
          "text": [
            "1\n",
            "2\n"
          ]
        }
      ],
      "source": [
        "print(1)\n",
        "print(2)"
      ]
    },
    {
      "cell_type": "code",
      "source": [
        "'''\n",
        "print 2's table using while loop\n",
        "'''\n",
        "start =2\n",
        "end = 20\n",
        "while (start <=end ):\n",
        "  print(start)\n",
        "  start = start +2\n",
        "\n"
      ],
      "metadata": {
        "colab": {
          "base_uri": "https://localhost:8080/"
        },
        "id": "Ya_-vrGV5Rdf",
        "outputId": "367e62e7-ef56-486d-fb10-2cf49c495df4"
      },
      "execution_count": null,
      "outputs": [
        {
          "output_type": "stream",
          "name": "stdout",
          "text": [
            "2\n",
            "4\n",
            "6\n",
            "8\n",
            "10\n",
            "12\n",
            "14\n",
            "16\n",
            "18\n",
            "20\n"
          ]
        }
      ]
    },
    {
      "cell_type": "code",
      "source": [
        "'''\n",
        "print 2's table in reverse using while loop\n",
        "'''\n",
        "start =20\n",
        "end = 2\n",
        "while (start >=end ):\n",
        "  print(start)\n",
        "  start = start -2"
      ],
      "metadata": {
        "colab": {
          "base_uri": "https://localhost:8080/"
        },
        "id": "sHRKANo58mnj",
        "outputId": "29ab3ec4-1c8d-4a2c-934c-d91d31aca4ea"
      },
      "execution_count": null,
      "outputs": [
        {
          "output_type": "stream",
          "name": "stdout",
          "text": [
            "20\n",
            "18\n",
            "16\n",
            "14\n",
            "12\n",
            "10\n",
            "8\n",
            "6\n",
            "4\n",
            "2\n"
          ]
        }
      ]
    },
    {
      "cell_type": "code",
      "source": [
        "'''\n",
        "for loop\n",
        "'''\n",
        "for i in range(10):\n",
        "  print(i)\n"
      ],
      "metadata": {
        "colab": {
          "base_uri": "https://localhost:8080/"
        },
        "id": "R9bpI9Fz8zQT",
        "outputId": "8abfc6c5-75df-4937-eac6-c9fe89977161"
      },
      "execution_count": null,
      "outputs": [
        {
          "output_type": "stream",
          "name": "stdout",
          "text": [
            "0\n",
            "1\n",
            "2\n",
            "3\n",
            "4\n",
            "5\n",
            "6\n",
            "7\n",
            "8\n",
            "9\n"
          ]
        }
      ]
    },
    {
      "cell_type": "code",
      "source": [
        "print(\"2's table in reverse order\")\n",
        "for i in range(2,21,2):\n",
        "  print(i)\n",
        "print('program completed')"
      ],
      "metadata": {
        "colab": {
          "base_uri": "https://localhost:8080/"
        },
        "id": "toTj8yD69hXI",
        "outputId": "06585cb1-d1cf-4683-e374-64ecbd6f9e88"
      },
      "execution_count": null,
      "outputs": [
        {
          "output_type": "stream",
          "name": "stdout",
          "text": [
            "2's table in reverse order\n",
            "2\n",
            "4\n",
            "6\n",
            "8\n",
            "10\n",
            "12\n",
            "14\n",
            "16\n",
            "18\n",
            "20\n",
            "program completed\n"
          ]
        }
      ]
    },
    {
      "cell_type": "code",
      "source": [
        "age=19\n",
        "if age>=18:\n",
        "  print (\"you can vote\")\n",
        "else:\n",
        "  print (\"you cannot vote\")"
      ],
      "metadata": {
        "colab": {
          "base_uri": "https://localhost:8080/"
        },
        "id": "521z18y0-yRx",
        "outputId": "a8ee1fa0-d5a9-431c-8b8e-61d09680f07b"
      },
      "execution_count": null,
      "outputs": [
        {
          "output_type": "stream",
          "name": "stdout",
          "text": [
            "you can vote\n"
          ]
        }
      ]
    },
    {
      "cell_type": "code",
      "source": [
        "'''\n",
        "grade based on marks\n",
        "\n",
        "marks >90 <=100 - A+\n",
        "marks >80 <=90 - A\n",
        "marks >70 <=80 - B+\n",
        "'''\n",
        "marks = 98\n",
        "if (marks >90 and marks <=100):\n",
        "  print('A+')\n",
        "elif (marks >80 and marks <=90):\n",
        "  print('A')\n",
        "elif (marks >70 and marks <=80):\n",
        "  print('B+')\n",
        "else:\n",
        "  print('less than B+')\n",
        "\n"
      ],
      "metadata": {
        "colab": {
          "base_uri": "https://localhost:8080/"
        },
        "id": "AB1DAL38_-MF",
        "outputId": "7d66be96-566b-490e-97f4-071386bbf5ad"
      },
      "execution_count": null,
      "outputs": [
        {
          "output_type": "stream",
          "name": "stdout",
          "text": [
            "A+\n"
          ]
        }
      ]
    }
  ]
}