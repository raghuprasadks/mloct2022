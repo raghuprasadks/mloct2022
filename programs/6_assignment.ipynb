{
  "nbformat": 4,
  "nbformat_minor": 0,
  "metadata": {
    "colab": {
      "provenance": []
    },
    "kernelspec": {
      "name": "python3",
      "display_name": "Python 3"
    },
    "language_info": {
      "name": "python"
    }
  },
  "cells": [
    {
      "cell_type": "code",
      "execution_count": 1,
      "metadata": {
        "colab": {
          "base_uri": "https://localhost:8080/"
        },
        "id": "kVHssgP_H5pQ",
        "outputId": "d4846e94-9468-4c9f-ff76-9ad839925154"
      },
      "outputs": [
        {
          "output_type": "stream",
          "name": "stdout",
          "text": [
            "You have to pay  4500.0\n",
            "Your saving on this bill is   500.0\n"
          ]
        }
      ],
      "source": [
        "purchase_amount = 5000\n",
        "discountrate = 0\n",
        "discount =0\n",
        "netamount = 0\n",
        "if (purchase_amount <=10000):\n",
        "  discountrate=.1\n",
        "elif (purchase_amount >10000 and purchase_amount<=20000):\n",
        "  discountrate=.2\n",
        "else:\n",
        "  discountrate=.3\n",
        "discount = purchase_amount * discountrate\n",
        "netamount = purchase_amount - discount\n",
        "print (\"You have to pay \",netamount)\n",
        "print (\"Your saving on this bill is  \",discount)\n"
      ]
    },
    {
      "cell_type": "code",
      "source": [],
      "metadata": {
        "id": "t3-ehMNwMEz9"
      },
      "execution_count": null,
      "outputs": []
    },
    {
      "cell_type": "code",
      "source": [
        "def shopping(purchase_amount):\n",
        "  discountrate = 0\n",
        "  discount =0\n",
        "  netamount = 0\n",
        "  if (purchase_amount <=10000):\n",
        "    discountrate=.1\n",
        "  elif (purchase_amount >10000 and purchase_amount<=20000):\n",
        "    discountrate=.2\n",
        "  else:\n",
        "    discountrate=.3\n",
        "  discount = purchase_amount * discountrate\n",
        "  netamount = purchase_amount - discount\n",
        "  print (\"You have to pay \",netamount)\n",
        "  print (\"Your saving on this bill is  \",discount)\n",
        "\n"
      ],
      "metadata": {
        "id": "nRWVGqoaKwua"
      },
      "execution_count": 5,
      "outputs": []
    },
    {
      "cell_type": "code",
      "source": [
        "shopping(10000)\n"
      ],
      "metadata": {
        "colab": {
          "base_uri": "https://localhost:8080/"
        },
        "id": "_seghXHYLKCP",
        "outputId": "e9993cd2-1832-478f-92bb-1d4b15ec9857"
      },
      "execution_count": 6,
      "outputs": [
        {
          "output_type": "stream",
          "name": "stdout",
          "text": [
            "You have to pay  9000.0\n",
            "Your saving on this bill is   1000.0\n"
          ]
        }
      ]
    },
    {
      "cell_type": "code",
      "source": [
        "shopping(40000)"
      ],
      "metadata": {
        "colab": {
          "base_uri": "https://localhost:8080/"
        },
        "id": "-5kz3IZlLfIy",
        "outputId": "f205a371-ded4-433c-9df2-b6431730a638"
      },
      "execution_count": 7,
      "outputs": [
        {
          "output_type": "stream",
          "name": "stdout",
          "text": [
            "You have to pay  28000.0\n",
            "Your saving on this bill is   12000.0\n"
          ]
        }
      ]
    },
    {
      "cell_type": "code",
      "source": [
        "name = input (\"enter your name\")\n",
        "print (\"your name is \",name)"
      ],
      "metadata": {
        "colab": {
          "base_uri": "https://localhost:8080/"
        },
        "id": "COYSyIXsMHct",
        "outputId": "27ffbf6b-09f4-4831-a9f8-09569f27b2f6"
      },
      "execution_count": 8,
      "outputs": [
        {
          "output_type": "stream",
          "name": "stdout",
          "text": [
            "enter your nameraghu\n",
            "your name is  raghu\n"
          ]
        }
      ]
    },
    {
      "cell_type": "code",
      "source": [
        "mobile = input (\"enter your mobile number\")\n",
        "print (\"your mobile number is \",mobile)\n",
        "print (\"data type of mobile \",type(mobile))"
      ],
      "metadata": {
        "colab": {
          "base_uri": "https://localhost:8080/"
        },
        "id": "XmYyaIxSMcCx",
        "outputId": "008e48ec-77e5-4387-a248-e6930de4fe99"
      },
      "execution_count": 10,
      "outputs": [
        {
          "output_type": "stream",
          "name": "stdout",
          "text": [
            "enter your mobile number93939393\n",
            "your mobile number is  93939393\n",
            "data type of mobile  <class 'str'>\n"
          ]
        }
      ]
    },
    {
      "cell_type": "code",
      "source": [
        "num1= int(input(\"enter a number\"))\n",
        "num2 = int(input(\"enter another number\"))\n",
        "res = num1+num2\n",
        "print(\"result is \",res)"
      ],
      "metadata": {
        "colab": {
          "base_uri": "https://localhost:8080/"
        },
        "id": "hpsNZ08cM6uY",
        "outputId": "d1cb1553-874c-42d9-82a9-b660fe63a017"
      },
      "execution_count": 12,
      "outputs": [
        {
          "output_type": "stream",
          "name": "stdout",
          "text": [
            "enter a number1000\n",
            "enter another number2000\n",
            "result is  3000\n"
          ]
        }
      ]
    },
    {
      "cell_type": "code",
      "source": [
        "purchase_amt = int(input(\"enter purchase amount\"))\n",
        "shopping(purchase_amt)"
      ],
      "metadata": {
        "colab": {
          "base_uri": "https://localhost:8080/"
        },
        "id": "4pcgSGOcNn3o",
        "outputId": "809a23f0-cf76-458e-b574-0d95ef87d416"
      },
      "execution_count": 15,
      "outputs": [
        {
          "output_type": "stream",
          "name": "stdout",
          "text": [
            "enter purchase amount50000\n",
            "You have to pay  35000.0\n",
            "Your saving on this bill is   15000.0\n"
          ]
        }
      ]
    }
  ]
}