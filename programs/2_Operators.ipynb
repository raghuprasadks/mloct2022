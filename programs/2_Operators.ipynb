{
  "nbformat": 4,
  "nbformat_minor": 0,
  "metadata": {
    "colab": {
      "provenance": []
    },
    "kernelspec": {
      "name": "python3",
      "display_name": "Python 3"
    },
    "language_info": {
      "name": "python"
    }
  },
  "cells": [
    {
      "cell_type": "code",
      "execution_count": null,
      "metadata": {
        "colab": {
          "base_uri": "https://localhost:8080/"
        },
        "id": "OFow3yf1l25g",
        "outputId": "5e7ede09-1de9-4e33-b648-3207009ed4f3"
      },
      "outputs": [
        {
          "output_type": "stream",
          "name": "stdout",
          "text": [
            "sum of  100  and  50  is  150\n"
          ]
        }
      ],
      "source": [
        "'''\n",
        "Arithmetic operator - +,-,*,/,//,%\n",
        "5/2 - 2.5\n",
        "5//2 = 2\n",
        "5%2 = 1\n",
        "'''\n",
        "n1 = 100\n",
        "n2 = 50\n",
        "result = n1+n2\n",
        "print('sum of ',n1,' and ',n2, ' is ',result)\n"
      ]
    },
    {
      "cell_type": "code",
      "source": [
        "#Comparision operator/Relational operator - >,<,>=,<=,==,!=\n",
        "n1=100\n",
        "n2=50\n",
        "print(n1>n2)\n",
        "result= (n1==n2)\n",
        "print ('n1==n2 ',result)\n",
        "\n",
        "result= (n1!=n2)\n",
        "print ('n1!=n2 ',result)\n",
        "\n"
      ],
      "metadata": {
        "colab": {
          "base_uri": "https://localhost:8080/"
        },
        "id": "dt1qbPPbnNpK",
        "outputId": "af7f5933-e14a-4f37-cbe3-2cd2390a7c54"
      },
      "execution_count": null,
      "outputs": [
        {
          "output_type": "stream",
          "name": "stdout",
          "text": [
            "True\n",
            "n1==n2  False\n",
            "n1!=n2  True\n"
          ]
        }
      ]
    },
    {
      "cell_type": "code",
      "source": [
        "#logical operators\n",
        "\n",
        "n1 = 100\n",
        "n2=75\n",
        "n3 = 150\n",
        "result = (n1>n2) and (n3>n2)\n",
        "print ('result of (n1>n2) and (n3>n2) ',result)\n",
        "result = (n2>n1) or (n3>n2)\n",
        "print ('result of (n2>n1) or (n3>n2) ',result)\n",
        "result = not((n2>n1) or (n3>n2))\n",
        "print ('result of not((n2>n1) or (n3>n2)) ',result)\n",
        "\n",
        "\n"
      ],
      "metadata": {
        "colab": {
          "base_uri": "https://localhost:8080/"
        },
        "id": "4Uls3vnMoZAy",
        "outputId": "b6311d00-e367-46b0-b013-c00e664677f3"
      },
      "execution_count": null,
      "outputs": [
        {
          "output_type": "stream",
          "name": "stdout",
          "text": [
            "result of (n1>n2) and (n3>n2)  True\n"
          ]
        }
      ]
    },
    {
      "cell_type": "code",
      "source": [
        "#Bitwise operator - &,|,^,~\n",
        "n1 = 5\n",
        "n2 = 6\n",
        "result = n1 & n2\n",
        "print (\"result of n1 & n2 \",result)\n",
        "result = n1 | n2\n",
        "print (\"result of n1 | n2 \",result)\n"
      ],
      "metadata": {
        "colab": {
          "base_uri": "https://localhost:8080/"
        },
        "id": "ouAXRHnD3txw",
        "outputId": "cd201363-ca9d-411b-c9b5-1fd6a666d14f"
      },
      "execution_count": null,
      "outputs": [
        {
          "output_type": "stream",
          "name": "stdout",
          "text": [
            "result of n1 & n2  4\n",
            "result of n1 | n2  7\n"
          ]
        }
      ]
    }
  ]
}