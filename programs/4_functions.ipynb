{
  "nbformat": 4,
  "nbformat_minor": 0,
  "metadata": {
    "colab": {
      "provenance": []
    },
    "kernelspec": {
      "name": "python3",
      "display_name": "Python 3"
    },
    "language_info": {
      "name": "python"
    }
  },
  "cells": [
    {
      "cell_type": "code",
      "execution_count": 2,
      "metadata": {
        "colab": {
          "base_uri": "https://localhost:8080/"
        },
        "id": "jm7cKLXZCh1_",
        "outputId": "403e69d0-b793-4acb-b6a2-e5b1da0d3298"
      },
      "outputs": [
        {
          "output_type": "stream",
          "name": "stdout",
          "text": [
            "Welcome to ML\n",
            "Welcome to ML\n"
          ]
        }
      ],
      "source": [
        "def greet():\n",
        "  print('Welcome to ML')\n",
        "greet()\n",
        "greet()"
      ]
    },
    {
      "cell_type": "code",
      "source": [
        "def add(n1,n2):\n",
        "  result = n1+n2\n",
        "  print(n1,' + ',n2,' = ',result)\n",
        "add(100,150)\n",
        "add(300,200)"
      ],
      "metadata": {
        "colab": {
          "base_uri": "https://localhost:8080/"
        },
        "id": "2SXmZMubDLMx",
        "outputId": "b2c450ef-2deb-48c2-d800-d6ad900446d9"
      },
      "execution_count": 3,
      "outputs": [
        {
          "output_type": "stream",
          "name": "stdout",
          "text": [
            "100  +  150  =  250\n",
            "300  +  200  =  500\n"
          ]
        }
      ]
    },
    {
      "cell_type": "code",
      "source": [
        "'''\n",
        "write a function to calculate simple interest\n",
        "'''\n",
        "\n",
        "def simpleInterest(p,r,t):\n",
        "  si=(p*r*t)/100\n",
        "  print('si ',si)\n",
        "simpleInterest(1000,4,1)\n",
        "simpleInterest(2000,4,2)\n",
        "\n"
      ],
      "metadata": {
        "colab": {
          "base_uri": "https://localhost:8080/"
        },
        "id": "sNCmM3qJD4Tq",
        "outputId": "b51af52f-1058-4bc2-ebc9-d4faa6bb41f6"
      },
      "execution_count": 5,
      "outputs": [
        {
          "output_type": "stream",
          "name": "stdout",
          "text": [
            "si  40.0\n",
            "si  160.0\n"
          ]
        }
      ]
    },
    {
      "cell_type": "code",
      "source": [
        "def simpleInterest(p,r,t):\n",
        "  si=(p*r*t)/100\n",
        "  return si\n",
        "\n",
        "si =simpleInterest(1000,4,2)\n",
        "print(\"simple interest is \",si)"
      ],
      "metadata": {
        "colab": {
          "base_uri": "https://localhost:8080/"
        },
        "id": "L8Nj8GrWFlhk",
        "outputId": "a480a34c-ca6b-4e79-cec9-fd7acb438bea"
      },
      "execution_count": 6,
      "outputs": [
        {
          "output_type": "stream",
          "name": "stdout",
          "text": [
            "simple interest is  80.0\n"
          ]
        }
      ]
    }
  ]
}